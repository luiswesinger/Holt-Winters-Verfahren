{
 "cells": [
  {
   "cell_type": "markdown",
   "metadata": {},
   "source": [
    "# Holt-Winters-Verfahren\n",
    "### Prognose-1\n",
    " \n",
    "**Interaktiver Plot zur Visualisierung folgender Verfahren anhand eines beispielhaften Datensatzes**\n",
    "\n",
    "\n",
    "- exponentielle Glättung erster Ordnung\n",
    "- Holt-Verfahren (exp. Gl. 2ter Ord.)\n",
    "- Holt-Winters-Verfahen (exp. Gl. 3ter Ord.)\n",
    "\n",
    "\n",
    "Beispielhafte Salesdaten wurden aus dem Buch \"Operative Planung in ITSystemen\" von Frank Herrmann genommen."
   ]
  },
  {
   "cell_type": "code",
   "execution_count": 1,
   "metadata": {},
   "outputs": [
    {
     "data": {
      "application/vnd.jupyter.widget-view+json": {
       "model_id": "7d2840c902304581ba3f6754964e3e7c",
       "version_major": 2,
       "version_minor": 0
      },
      "text/plain": [
       "interactive(children=(FloatSlider(value=0.3, description='Alpha (SES)', max=1.0, min=0.01, step=0.01), FloatSl…"
      ]
     },
     "metadata": {},
     "output_type": "display_data"
    },
    {
     "data": {
      "text/plain": [
       "<function __main__.plot_interactive(alpha=0.3, beta=0.3, gamma=0.1, show_ses=False, show_holt=False, show_hw=False)>"
      ]
     },
     "execution_count": 1,
     "metadata": {},
     "output_type": "execute_result"
    }
   ],
   "source": [
    "import numpy as np\n",
    "import pandas as pd\n",
    "import matplotlib.pyplot as plt\n",
    "from ipywidgets import interact, FloatSlider, Checkbox\n",
    "from matplotlib.widgets import CheckButtons\n",
    "\n",
    "\n",
    "# Salesdaten aus Buch Herrmann\n",
    "seasonal_period = 4\n",
    "data = pd.DataFrame({\n",
    "    \"Sales\": np.array([139, 260, 151, 63, 62, 212, 224, 183, 143, 291, 261, 213, 174, 312, 229, 151, 197, 370, 390, 371, 231, 444, 423, 354])\n",
    "})\n",
    "\n",
    "\n",
    "# Glättung erster Ordnung\n",
    "def ses(data, alpha):\n",
    "    \"\"\"Einfache exponentielle Glättung (SES)\"\"\"\n",
    "    ses_values = [data[0]]  # Initialwert\n",
    "    for t in range(1, len(data)):\n",
    "        ses_values.append(alpha * data[t] + (1 - alpha) * ses_values[-1])\n",
    "    return np.array(ses_values)\n",
    "\n",
    "\n",
    "def holt(data, alpha, beta):\n",
    "    \"\"\"Holt-Verfahren für trendangepasste Glättung\"\"\"\n",
    "    niveau = np.mean(data[:5])      # Durchschnitt der ersten 5 Werte für bessere initialisierung\n",
    "    trend = (data[5] - data[0]) / 5     # hier auch\n",
    "    holt_values = [niveau + trend]\n",
    "    \n",
    "    for t in range(1, len(data)):\n",
    "        previous_niveau = niveau\n",
    "        niveau = alpha * data[t] + (1 - alpha) * (niveau + trend)\n",
    "        trend = beta * (niveau - previous_niveau) + (1 - beta) * trend\n",
    "        holt_values.append(niveau + trend)\n",
    "        \n",
    "    return np.array(holt_values)\n",
    "\n",
    "\n",
    "def holt_winters(data, alpha, beta, gamma, season_length):\n",
    "    \"\"\"Holt-Winters-Verfahren für saisonale und trendangepasste Glättung\"\"\"\n",
    "    niveau = np.mean(data[:5])      # Durchschnitt der ersten 5 Werte für bessere initialisierung\n",
    "    trend = (data[5] - data[0]) / 5     # hier auch\n",
    "    seasonals = [data[i] - niveau for i in range(season_length)]\n",
    "    hw_values = [niveau + seasonals[0]]\n",
    "    \n",
    "    for t in range(1, len(data)):\n",
    "        previous_niveau = niveau\n",
    "        niveau = alpha * (data[t] - seasonals[t % season_length]) + (1 - alpha) * (niveau + trend)\n",
    "        trend = beta * (niveau - previous_niveau) + (1 - beta) * trend\n",
    "        seasonals[t % season_length] = gamma * (data[t] - niveau) + (1 - gamma) * seasonals[t % season_length]\n",
    "        hw_values.append(niveau + trend + seasonals[t % season_length])\n",
    "        \n",
    "    return np.array(hw_values)\n",
    "\n",
    "\n",
    "# Interaktiver Plot\n",
    "def plot_interactive(alpha=0.3, beta=0.3, gamma=0.1, show_ses=False, show_holt=False, show_hw=False):\n",
    "    plt.figure(figsize=(12, 6))\n",
    "    plt.plot(data[\"Sales\"], label=\"Original Data\", color=\"black\",linestyle='--', linewidth=3)\n",
    "    \n",
    "    if show_ses:\n",
    "        ses_values = ses(data[\"Sales\"], alpha)\n",
    "        plt.plot(ses_values, label=\"SES\", color=\"blue\",linewidth=3)\n",
    "        \n",
    "    if show_holt:\n",
    "        holt_values = holt(data[\"Sales\"], alpha, beta)\n",
    "        plt.plot(holt_values, label=\"Holt\", color=\"orange\",linewidth=3)\n",
    "        \n",
    "    if show_hw:\n",
    "        hw_values = holt_winters(data[\"Sales\"], alpha, beta, gamma, season_length=seasonal_period)\n",
    "        plt.plot(hw_values, label=\"Holt-Winters\", color=\"green\",linewidth=3)\n",
    "        \n",
    "    plt.title(\"Holt-Winters-Verfahren\")\n",
    "    plt.xlabel(\"Quarters\")\n",
    "    plt.ylabel(\"Sales\")\n",
    "    plt.style.use('bmh')\n",
    "    plt.legend()\n",
    "    plt.show()\n",
    "\n",
    "# Interaktive Widgets\n",
    "interact(\n",
    "    plot_interactive,\n",
    "    alpha=FloatSlider(value=0.3, min=0.01, max=1.0, step=0.01, description=\"Alpha (SES)\"),\n",
    "    beta=FloatSlider(value=0.3, min=0.01, max=1.0, step=0.01, description=\"Beta (Trend)\"),\n",
    "    gamma=FloatSlider(value=0.1, min=0.01, max=1.0, step=0.01, description=\"Gamma (Seasonality)\"),\n",
    "    show_ses=Checkbox(value=False, description=\"Show SES\"),\n",
    "    show_holt=Checkbox(value=False, description=\"Show Holt\"),\n",
    "    show_hw=Checkbox(value=False, description=\"Show Holt-Winters\")\n",
    ")\n"
   ]
  },
  {
   "cell_type": "markdown",
   "metadata": {},
   "source": [
    "### Parameter Wahl Holt-Winters-Verfahren\n",
    "\n",
    "- **Alpha**: steuert die Gewichtung des Niveaus --> wie schnell das Model auf Veränderung reagiert\n",
    "    - hoher Alpha Wert berücksichtigt aktuelle Datenpunkte mehr  \n",
    "\n",
    "- **Beta**: steuert die Gewichtung des Trends \n",
    "    - niedriger Wert wird der Trend langsamer aktualisiert --> reagiert nicht übermäßig auf Schwankungen\n",
    "\n",
    "- **Gamma**: kontrolliert Gewichtung der saisonalen Komponente\n",
    "    - niedriger gamma Wert hält die saison stabil und aktualisiert langsamer"
   ]
  },
  {
   "cell_type": "markdown",
   "metadata": {},
   "source": [
    "Author:     Luis Wesinger  \n",
    "Contact:    wesingerluis@gmail.com  edu: luis.wesinger@st.oth-regensburg.de  \n",
    "\n",
    "This code ist published under the MIT-License."
   ]
  }
 ],
 "metadata": {
  "kernelspec": {
   "display_name": "Python 3",
   "language": "python",
   "name": "python3"
  },
  "language_info": {
   "codemirror_mode": {
    "name": "ipython",
    "version": 3
   },
   "file_extension": ".py",
   "mimetype": "text/x-python",
   "name": "python",
   "nbconvert_exporter": "python",
   "pygments_lexer": "ipython3",
   "version": "3.12.3"
  }
 },
 "nbformat": 4,
 "nbformat_minor": 2
}
